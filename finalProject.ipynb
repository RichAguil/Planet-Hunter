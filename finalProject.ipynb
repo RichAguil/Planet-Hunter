{
 "cells": [
  {
   "cell_type": "code",
   "execution_count": null,
   "metadata": {},
   "outputs": [],
   "source": []
  },
  {
   "cell_type": "code",
   "execution_count": 1,
   "metadata": {},
   "outputs": [
    {
     "name": "stdout",
     "output_type": "stream",
     "text": [
      "   koi_period  koi_time0bk  koi_impact  koi_duration  koi_depth  koi_prad  \\\n",
      "0    9.488036   170.538750       0.146       2.95750      616.0      2.26   \n",
      "1   54.418383   162.513840       0.586       4.50700      875.0      2.83   \n",
      "2   19.899140   175.850252       0.969       1.78220    10800.0     14.60   \n",
      "3    1.736952   170.307565       1.276       2.40641     8080.0     33.46   \n",
      "4    2.525592   171.595550       0.701       1.65450      603.0      2.75   \n",
      "\n",
      "   koi_incl  koi_teq  koi_model_snr koi_disposition  koi_steff  koi_slogg  \\\n",
      "0     89.66    793.0           35.8       CONFIRMED     5455.0      4.467   \n",
      "1     89.57    443.0           25.8       CONFIRMED     5455.0      4.467   \n",
      "2     88.96    638.0           76.3       CANDIDATE     5853.0      4.544   \n",
      "3     67.09   1395.0          505.6  FALSE POSITIVE     5805.0      4.564   \n",
      "4     85.41   1406.0           40.9       CONFIRMED     6031.0      4.438   \n",
      "\n",
      "   koi_smet  koi_srad  koi_smass  \n",
      "0      0.14     0.927      0.919  \n",
      "1      0.14     0.927      0.919  \n",
      "2     -0.18     0.868      0.961  \n",
      "3     -0.52     0.791      0.836  \n",
      "4      0.07     1.046      1.095  \n",
      "(9564, 15)\n"
     ]
    }
   ],
   "source": [
    "import numpy as np\n",
    "import pandas as pd\n",
    "import math\n",
    "import matplotlib.pyplot as plt\n",
    "import statistics\n",
    "import warnings\n",
    "from copy import deepcopy\n",
    "from random import randrange\n",
    "from sklearn.preprocessing import MinMaxScaler, StandardScaler\n",
    "from sklearn.model_selection import train_test_split, cross_validate, GridSearchCV\n",
    "from sklearn.utils import shuffle\n",
    "from sklearn.discriminant_analysis import LinearDiscriminantAnalysis as LDA\n",
    "from sklearn.svm import LinearSVC, SVC\n",
    "from sklearn.metrics import confusion_matrix, balanced_accuracy_score, accuracy_score, precision_score, recall_score, f1_score, roc_curve, precision_recall_curve, classification_report\n",
    "from sklearn.pipeline import Pipeline, make_pipeline\n",
    "from sklearn.decomposition import PCA\n",
    "\n",
    "warnings.filterwarnings('ignore')\n",
    "\n",
    "keplerDF = pd.read_csv('Kepler_Data_Final_Project.csv')\n",
    "print(keplerDF.head(5))\n",
    "print(keplerDF.shape)"
   ]
  },
  {
   "cell_type": "markdown",
   "metadata": {},
   "source": [
    "## Data Preprocessing"
   ]
  },
  {
   "cell_type": "markdown",
   "metadata": {},
   "source": [
    "The koi_disposition will be the target vector. However, it cannot be used as it is now, since it contains non-numerical data. Here I will convert every instance of \"CONFIRMED\" to the binary value of 1, and the \"FALSE POSITIVE\" to -1."
   ]
  },
  {
   "cell_type": "code",
   "execution_count": 2,
   "metadata": {},
   "outputs": [
    {
     "name": "stdout",
     "output_type": "stream",
     "text": [
      "(9564, 15)\n"
     ]
    }
   ],
   "source": [
    "keplerDF.loc[keplerDF['koi_disposition'] == 'CONFIRMED', ['koi_disposition']] = 1\n",
    "keplerDF.loc[keplerDF['koi_disposition'] == 'FALSE POSITIVE', ['koi_disposition']] = 0\n",
    "print(keplerDF.shape)"
   ]
  },
  {
   "cell_type": "markdown",
   "metadata": {},
   "source": [
    "While most of the planets have either been confirmed or labeled false positive, some are still pending, and labeled as \"CANDIDATE\". As such, those rows that contain potential planets whos final status are still unknown, will be removed."
   ]
  },
  {
   "cell_type": "code",
   "execution_count": 3,
   "metadata": {},
   "outputs": [
    {
     "name": "stdout",
     "output_type": "stream",
     "text": [
      "(7198, 15)\n"
     ]
    }
   ],
   "source": [
    "keplerDF.drop(keplerDF[keplerDF['koi_disposition'] == 'CANDIDATE'].index, inplace = True)\n",
    "print(keplerDF.shape)"
   ]
  },
  {
   "cell_type": "markdown",
   "metadata": {},
   "source": [
    "Remove missing values"
   ]
  },
  {
   "cell_type": "code",
   "execution_count": 4,
   "metadata": {},
   "outputs": [
    {
     "name": "stdout",
     "output_type": "stream",
     "text": [
      "(6919, 15)\n"
     ]
    }
   ],
   "source": [
    "keplerDF.dropna(inplace = True)\n",
    "print(keplerDF.shape)"
   ]
  },
  {
   "cell_type": "markdown",
   "metadata": {},
   "source": [
    "An addition, the properties of the host star must be split off from the planetary transit data. The steller properties will be used later for clustering"
   ]
  },
  {
   "cell_type": "code",
   "execution_count": 5,
   "metadata": {},
   "outputs": [
    {
     "name": "stdout",
     "output_type": "stream",
     "text": [
      "   koi_period  koi_time0bk  koi_impact  koi_duration  koi_depth  koi_prad  \\\n",
      "0    9.488036   170.538750       0.146       2.95750      616.0      2.26   \n",
      "1   54.418383   162.513840       0.586       4.50700      875.0      2.83   \n",
      "3    1.736952   170.307565       1.276       2.40641     8080.0     33.46   \n",
      "4    2.525592   171.595550       0.701       1.65450      603.0      2.75   \n",
      "5   11.094321   171.201160       0.538       4.59450     1520.0      3.90   \n",
      "\n",
      "   koi_incl  koi_teq  koi_model_snr koi_disposition  \n",
      "0     89.66    793.0           35.8               1  \n",
      "1     89.57    443.0           25.8               1  \n",
      "3     67.09   1395.0          505.6               0  \n",
      "4     85.41   1406.0           40.9               1  \n",
      "5     88.11    835.0           66.5               1  \n",
      "(6919, 10)\n"
     ]
    }
   ],
   "source": [
    "#keplerDF.columns = keplerDF.iloc[0]\n",
    "#keplerDF = keplerDF[1:]\n",
    "stellarDF = keplerDF.iloc[:,-5:]\n",
    "planetaryDF = keplerDF.iloc[:,:-5]\n",
    "print(planetaryDF.head(5))\n",
    "print(planetaryDF.shape) #Planetary data shown below"
   ]
  },
  {
   "cell_type": "code",
   "execution_count": 6,
   "metadata": {},
   "outputs": [
    {
     "name": "stdout",
     "output_type": "stream",
     "text": [
      "   koi_steff  koi_slogg  koi_smet  koi_srad  koi_smass\n",
      "0     5455.0      4.467      0.14     0.927      0.919\n",
      "1     5455.0      4.467      0.14     0.927      0.919\n",
      "3     5805.0      4.564     -0.52     0.791      0.836\n",
      "4     6031.0      4.438      0.07     1.046      1.095\n",
      "5     6046.0      4.486     -0.08     0.972      1.053\n",
      "(6919, 5)\n"
     ]
    }
   ],
   "source": [
    "print(stellarDF.head(5))\n",
    "print(stellarDF.shape) #Stellar data shown below"
   ]
  },
  {
   "cell_type": "code",
   "execution_count": 7,
   "metadata": {},
   "outputs": [
    {
     "name": "stdout",
     "output_type": "stream",
     "text": [
      "Shape of target vector: (6919,)\n",
      "Shape of features: (6919, 9)\n"
     ]
    }
   ],
   "source": [
    "#planetaryDF = shuffle(planetaryDF)\n",
    "Y = planetaryDF.loc[:, 'koi_disposition'] #splitting the data into features and target vector\n",
    "X_Planetary = planetaryDF.loc[:, :'koi_model_snr']\n",
    "print(\"Shape of target vector:\", Y.shape)\n",
    "print(\"Shape of features:\", X_Planetary.shape)"
   ]
  },
  {
   "cell_type": "markdown",
   "metadata": {},
   "source": [
    "# Linear Support Vector Machine\n",
    "### Standardization and splitting the dataset\n",
    "Given the wide spread in the range of our features, in addition to the difference in measurement units, it is necessary to standardize them, so that the mere magnitude of a particular feature will not dominate the rest."
   ]
  },
  {
   "cell_type": "code",
   "execution_count": 8,
   "metadata": {},
   "outputs": [],
   "source": [
    "scaler = StandardScaler()\n",
    "X_Train, X_Test, Y_Train, Y_Test = train_test_split(X_Planetary, Y, test_size = 0.30)\n",
    "SVM_classifier = LinearSVC(C = 1, loss = \"hinge\", max_iter = 1000000)\n",
    "scaledSVM = Pipeline([(\"scaler\", scaler), (\"linearClassifier\", SVM_classifier)])"
   ]
  },
  {
   "cell_type": "markdown",
   "metadata": {},
   "source": [
    "## Training and Testing the Soft SVM"
   ]
  },
  {
   "cell_type": "code",
   "execution_count": 9,
   "metadata": {},
   "outputs": [
    {
     "name": "stdout",
     "output_type": "stream",
     "text": [
      "(4843,)\n"
     ]
    },
    {
     "data": {
      "text/plain": [
       "Pipeline(steps=[('scaler', StandardScaler()),\n",
       "                ('linearClassifier',\n",
       "                 LinearSVC(C=1, loss='hinge', max_iter=1000000))])"
      ]
     },
     "execution_count": 9,
     "metadata": {},
     "output_type": "execute_result"
    }
   ],
   "source": [
    "Y_Train = Y_Train.astype('int64') #The values must be of the same type (in this case type 'int'), otherwise, this model will not run\n",
    "print(Y_Train.shape)\n",
    "scaledSVM.fit(X_Train, Y_Train.values.ravel())"
   ]
  },
  {
   "cell_type": "code",
   "execution_count": 10,
   "metadata": {},
   "outputs": [
    {
     "name": "stdout",
     "output_type": "stream",
     "text": [
      "Confusion Matrix: \n",
      "[[1150  251]\n",
      " [ 111  564]]\n",
      "\n",
      "Accuracy: 82.56%\n",
      "F1 score: 75.70%\n"
     ]
    }
   ],
   "source": [
    "predictedValues = scaledSVM.predict(X_Test)\n",
    "Y_Test = Y_Test.astype('int64')\n",
    "print(\"Confusion Matrix: \")\n",
    "print(confusion_matrix(Y_Test, predictedValues))\n",
    "print()\n",
    "print(\"Accuracy:\", \"{:.2%}\".format(accuracy_score(Y_Test, predictedValues)))\n",
    "print(\"F1 score:\", \"{:.2%}\".format(f1_score(Y_Test, predictedValues)))"
   ]
  },
  {
   "cell_type": "markdown",
   "metadata": {},
   "source": [
    "## Finding Optimal C for Soft-margin SVM\n",
    "Given the classificaton report, it is clear that C, the penalty parameter, is not adequate. This parameter is used as a trade-off value between misclassifications and the margin size. The smaller the value of C, the larger the tolerance for misclassification, resulting in a larger margin. The higher the C, the lesser the tolerance for misclassification, resulting in a smaller margin. Therefore, a higher C brings the model closer to a 'hard' SVM. Therefore, C will be the hyperparameter that will be tuned"
   ]
  },
  {
   "cell_type": "code",
   "execution_count": 11,
   "metadata": {},
   "outputs": [
    {
     "name": "stdout",
     "output_type": "stream",
     "text": [
      "Tuning hyper-parameters for accuracy\n",
      "\n",
      "Best parameters set found on development set:\n",
      "\n",
      "{'C': 55, 'loss': 'hinge', 'max_iter': 1000000}\n",
      "\n",
      "Grid scores on development set:\n",
      "\n",
      "0.829 (+/-0.023) for {'C': 1, 'loss': 'hinge', 'max_iter': 1000000}\n",
      "0.832 (+/-0.023) for {'C': 3, 'loss': 'hinge', 'max_iter': 1000000}\n",
      "0.833 (+/-0.021) for {'C': 5, 'loss': 'hinge', 'max_iter': 1000000}\n",
      "0.834 (+/-0.020) for {'C': 7, 'loss': 'hinge', 'max_iter': 1000000}\n",
      "0.835 (+/-0.020) for {'C': 9, 'loss': 'hinge', 'max_iter': 1000000}\n",
      "0.836 (+/-0.021) for {'C': 11, 'loss': 'hinge', 'max_iter': 1000000}\n",
      "0.836 (+/-0.022) for {'C': 13, 'loss': 'hinge', 'max_iter': 1000000}\n",
      "0.836 (+/-0.023) for {'C': 15, 'loss': 'hinge', 'max_iter': 1000000}\n",
      "0.837 (+/-0.023) for {'C': 17, 'loss': 'hinge', 'max_iter': 1000000}\n",
      "0.838 (+/-0.021) for {'C': 19, 'loss': 'hinge', 'max_iter': 1000000}\n",
      "0.837 (+/-0.022) for {'C': 21, 'loss': 'hinge', 'max_iter': 1000000}\n",
      "0.838 (+/-0.022) for {'C': 23, 'loss': 'hinge', 'max_iter': 1000000}\n",
      "0.837 (+/-0.023) for {'C': 25, 'loss': 'hinge', 'max_iter': 1000000}\n",
      "0.838 (+/-0.023) for {'C': 27, 'loss': 'hinge', 'max_iter': 1000000}\n",
      "0.838 (+/-0.022) for {'C': 29, 'loss': 'hinge', 'max_iter': 1000000}\n",
      "0.838 (+/-0.022) for {'C': 31, 'loss': 'hinge', 'max_iter': 1000000}\n",
      "0.838 (+/-0.021) for {'C': 33, 'loss': 'hinge', 'max_iter': 1000000}\n",
      "0.838 (+/-0.021) for {'C': 35, 'loss': 'hinge', 'max_iter': 1000000}\n",
      "0.839 (+/-0.021) for {'C': 37, 'loss': 'hinge', 'max_iter': 1000000}\n",
      "0.839 (+/-0.022) for {'C': 39, 'loss': 'hinge', 'max_iter': 1000000}\n",
      "0.839 (+/-0.022) for {'C': 41, 'loss': 'hinge', 'max_iter': 1000000}\n",
      "0.839 (+/-0.022) for {'C': 43, 'loss': 'hinge', 'max_iter': 1000000}\n",
      "0.839 (+/-0.022) for {'C': 45, 'loss': 'hinge', 'max_iter': 1000000}\n",
      "0.839 (+/-0.021) for {'C': 47, 'loss': 'hinge', 'max_iter': 1000000}\n",
      "0.839 (+/-0.022) for {'C': 49, 'loss': 'hinge', 'max_iter': 1000000}\n",
      "0.840 (+/-0.021) for {'C': 51, 'loss': 'hinge', 'max_iter': 1000000}\n",
      "0.840 (+/-0.021) for {'C': 53, 'loss': 'hinge', 'max_iter': 1000000}\n",
      "0.840 (+/-0.020) for {'C': 55, 'loss': 'hinge', 'max_iter': 1000000}\n",
      "0.840 (+/-0.020) for {'C': 57, 'loss': 'hinge', 'max_iter': 1000000}\n",
      "0.839 (+/-0.020) for {'C': 59, 'loss': 'hinge', 'max_iter': 1000000}\n",
      "0.840 (+/-0.019) for {'C': 61, 'loss': 'hinge', 'max_iter': 1000000}\n",
      "0.840 (+/-0.019) for {'C': 63, 'loss': 'hinge', 'max_iter': 1000000}\n",
      "0.840 (+/-0.020) for {'C': 65, 'loss': 'hinge', 'max_iter': 1000000}\n",
      "0.839 (+/-0.020) for {'C': 67, 'loss': 'hinge', 'max_iter': 1000000}\n",
      "0.840 (+/-0.019) for {'C': 69, 'loss': 'hinge', 'max_iter': 1000000}\n",
      "\n",
      "Detailed classification report:\n",
      "\n",
      "The model is trained on the full development set.\n",
      "The scores are computed on the full evaluation set.\n",
      "\n",
      "              precision    recall  f1-score   support\n",
      "\n",
      "           0       0.84      0.90      0.87      1401\n",
      "           1       0.76      0.66      0.70       675\n",
      "\n",
      "    accuracy                           0.82      2076\n",
      "   macro avg       0.80      0.78      0.79      2076\n",
      "weighted avg       0.82      0.82      0.82      2076\n",
      "\n",
      "\n"
     ]
    }
   ],
   "source": [
    "C_list = [(i*2)+1 for i in range(35)]\n",
    "X_Train = scaler.fit_transform(X_Train)\n",
    "X_Test = scaler.fit_transform(X_Test)\n",
    "tuned_parameters = [{'max_iter': [1000000], 'loss':['hinge'], 'C': C_list}]\n",
    "\n",
    "print(\"Tuning hyper-parameters for accuracy\")\n",
    "print()\n",
    "linearSVM = GridSearchCV(LinearSVC(), tuned_parameters, scoring = 'accuracy')\n",
    "linearSVM.fit(X_Train, Y_Train)\n",
    "\n",
    "print(\"Best parameters set found on development set:\")\n",
    "print()\n",
    "print(linearSVM.best_params_)\n",
    "print()\n",
    "print(\"Grid scores on development set:\")\n",
    "print()\n",
    "means = linearSVM.cv_results_['mean_test_score']\n",
    "stds = linearSVM.cv_results_['std_test_score']\n",
    "for mean, std, params in zip(means, stds, linearSVM.cv_results_['params']):\n",
    "    print(\"%0.3f (+/-%0.03f) for %r\" % (mean, std * 2, params))\n",
    "print()\n",
    "\n",
    "print(\"Detailed classification report:\")\n",
    "print()\n",
    "print(\"The model is trained on the full development set.\")\n",
    "print(\"The scores are computed on the full evaluation set.\")\n",
    "print()\n",
    "actualValues, predictedValues = Y_Test, linearSVM.predict(X_Test)\n",
    "print(classification_report(actualValues, predictedValues))\n",
    "print()"
   ]
  },
  {
   "cell_type": "code",
   "execution_count": 12,
   "metadata": {},
   "outputs": [
    {
     "name": "stdout",
     "output_type": "stream",
     "text": [
      "Confusion Matrix: \n",
      "[[1257  144]\n",
      " [ 231  444]]\n",
      "\n",
      "Accuracy: 81.94%\n",
      "F1 score: 70.31%\n"
     ]
    }
   ],
   "source": [
    "linearSVM = LinearSVC(C = 55, loss = \"hinge\", max_iter = 1000000)\n",
    "linearSVM.fit(X_Train, Y_Train.values.ravel())\n",
    "predictedValues = linearSVM.predict(X_Test)\n",
    "print(\"Confusion Matrix: \")\n",
    "print(confusion_matrix(Y_Test, predictedValues))\n",
    "print()\n",
    "print(\"Accuracy:\", \"{:.2%}\".format(accuracy_score(Y_Test, predictedValues)))\n",
    "print(\"F1 score:\", \"{:.2%}\".format(f1_score(Y_Test, predictedValues)))"
   ]
  },
  {
   "cell_type": "markdown",
   "metadata": {},
   "source": [
    "# Kernalized Support Vector Machine"
   ]
  },
  {
   "cell_type": "markdown",
   "metadata": {},
   "source": [
    "## Polynomial Kernel\n",
    "### Hyperparameter Tuning (GridSearchCV)\n",
    "To elevate the samples into a higher-dimension, the polynomial kernelized SVM uses a polynomial function of N-degree. In this optimization, several values of d will be used"
   ]
  },
  {
   "cell_type": "code",
   "execution_count": 46,
   "metadata": {},
   "outputs": [
    {
     "name": "stdout",
     "output_type": "stream",
     "text": [
      "Tuning hyper-parameters for accuracy\n",
      "\n",
      "Best parameters set found on development set:\n",
      "\n",
      "{'C': 59, 'degree': 3, 'gamma': 'auto', 'kernel': 'poly'}\n",
      "\n",
      "Grid scores on development set:\n",
      "\n",
      "0.823 (+/-0.015) for {'C': 1, 'degree': 1, 'gamma': 'auto', 'kernel': 'poly'}\n",
      "0.804 (+/-0.018) for {'C': 1, 'degree': 2, 'gamma': 'auto', 'kernel': 'poly'}\n",
      "0.774 (+/-0.035) for {'C': 1, 'degree': 3, 'gamma': 'auto', 'kernel': 'poly'}\n",
      "0.662 (+/-0.005) for {'C': 1, 'degree': 4, 'gamma': 'auto', 'kernel': 'poly'}\n",
      "0.662 (+/-0.008) for {'C': 1, 'degree': 5, 'gamma': 'auto', 'kernel': 'poly'}\n",
      "0.827 (+/-0.017) for {'C': 3, 'degree': 1, 'gamma': 'auto', 'kernel': 'poly'}\n",
      "0.814 (+/-0.020) for {'C': 3, 'degree': 2, 'gamma': 'auto', 'kernel': 'poly'}\n",
      "0.815 (+/-0.026) for {'C': 3, 'degree': 3, 'gamma': 'auto', 'kernel': 'poly'}\n",
      "0.714 (+/-0.070) for {'C': 3, 'degree': 4, 'gamma': 'auto', 'kernel': 'poly'}\n",
      "0.662 (+/-0.011) for {'C': 3, 'degree': 5, 'gamma': 'auto', 'kernel': 'poly'}\n",
      "0.829 (+/-0.017) for {'C': 5, 'degree': 1, 'gamma': 'auto', 'kernel': 'poly'}\n",
      "0.817 (+/-0.020) for {'C': 5, 'degree': 2, 'gamma': 'auto', 'kernel': 'poly'}\n",
      "0.820 (+/-0.023) for {'C': 5, 'degree': 3, 'gamma': 'auto', 'kernel': 'poly'}\n",
      "0.776 (+/-0.055) for {'C': 5, 'degree': 4, 'gamma': 'auto', 'kernel': 'poly'}\n",
      "0.663 (+/-0.012) for {'C': 5, 'degree': 5, 'gamma': 'auto', 'kernel': 'poly'}\n",
      "0.828 (+/-0.016) for {'C': 7, 'degree': 1, 'gamma': 'auto', 'kernel': 'poly'}\n",
      "0.819 (+/-0.024) for {'C': 7, 'degree': 2, 'gamma': 'auto', 'kernel': 'poly'}\n",
      "0.822 (+/-0.022) for {'C': 7, 'degree': 3, 'gamma': 'auto', 'kernel': 'poly'}\n",
      "0.770 (+/-0.050) for {'C': 7, 'degree': 4, 'gamma': 'auto', 'kernel': 'poly'}\n",
      "0.663 (+/-0.012) for {'C': 7, 'degree': 5, 'gamma': 'auto', 'kernel': 'poly'}\n",
      "0.828 (+/-0.014) for {'C': 9, 'degree': 1, 'gamma': 'auto', 'kernel': 'poly'}\n",
      "0.819 (+/-0.020) for {'C': 9, 'degree': 2, 'gamma': 'auto', 'kernel': 'poly'}\n",
      "0.823 (+/-0.020) for {'C': 9, 'degree': 3, 'gamma': 'auto', 'kernel': 'poly'}\n",
      "0.770 (+/-0.048) for {'C': 9, 'degree': 4, 'gamma': 'auto', 'kernel': 'poly'}\n",
      "0.664 (+/-0.012) for {'C': 9, 'degree': 5, 'gamma': 'auto', 'kernel': 'poly'}\n",
      "0.828 (+/-0.014) for {'C': 11, 'degree': 1, 'gamma': 'auto', 'kernel': 'poly'}\n",
      "0.821 (+/-0.021) for {'C': 11, 'degree': 2, 'gamma': 'auto', 'kernel': 'poly'}\n",
      "0.825 (+/-0.022) for {'C': 11, 'degree': 3, 'gamma': 'auto', 'kernel': 'poly'}\n",
      "0.773 (+/-0.045) for {'C': 11, 'degree': 4, 'gamma': 'auto', 'kernel': 'poly'}\n",
      "0.664 (+/-0.014) for {'C': 11, 'degree': 5, 'gamma': 'auto', 'kernel': 'poly'}\n",
      "0.828 (+/-0.013) for {'C': 13, 'degree': 1, 'gamma': 'auto', 'kernel': 'poly'}\n",
      "0.822 (+/-0.020) for {'C': 13, 'degree': 2, 'gamma': 'auto', 'kernel': 'poly'}\n",
      "0.827 (+/-0.021) for {'C': 13, 'degree': 3, 'gamma': 'auto', 'kernel': 'poly'}\n",
      "0.776 (+/-0.038) for {'C': 13, 'degree': 4, 'gamma': 'auto', 'kernel': 'poly'}\n",
      "0.669 (+/-0.015) for {'C': 13, 'degree': 5, 'gamma': 'auto', 'kernel': 'poly'}\n",
      "0.829 (+/-0.013) for {'C': 15, 'degree': 1, 'gamma': 'auto', 'kernel': 'poly'}\n",
      "0.822 (+/-0.019) for {'C': 15, 'degree': 2, 'gamma': 'auto', 'kernel': 'poly'}\n",
      "0.826 (+/-0.024) for {'C': 15, 'degree': 3, 'gamma': 'auto', 'kernel': 'poly'}\n",
      "0.780 (+/-0.036) for {'C': 15, 'degree': 4, 'gamma': 'auto', 'kernel': 'poly'}\n",
      "0.680 (+/-0.027) for {'C': 15, 'degree': 5, 'gamma': 'auto', 'kernel': 'poly'}\n",
      "0.830 (+/-0.012) for {'C': 17, 'degree': 1, 'gamma': 'auto', 'kernel': 'poly'}\n",
      "0.824 (+/-0.020) for {'C': 17, 'degree': 2, 'gamma': 'auto', 'kernel': 'poly'}\n",
      "0.827 (+/-0.026) for {'C': 17, 'degree': 3, 'gamma': 'auto', 'kernel': 'poly'}\n",
      "0.786 (+/-0.032) for {'C': 17, 'degree': 4, 'gamma': 'auto', 'kernel': 'poly'}\n",
      "0.706 (+/-0.062) for {'C': 17, 'degree': 5, 'gamma': 'auto', 'kernel': 'poly'}\n",
      "0.831 (+/-0.013) for {'C': 19, 'degree': 1, 'gamma': 'auto', 'kernel': 'poly'}\n",
      "0.825 (+/-0.022) for {'C': 19, 'degree': 2, 'gamma': 'auto', 'kernel': 'poly'}\n",
      "0.828 (+/-0.024) for {'C': 19, 'degree': 3, 'gamma': 'auto', 'kernel': 'poly'}\n",
      "0.787 (+/-0.033) for {'C': 19, 'degree': 4, 'gamma': 'auto', 'kernel': 'poly'}\n",
      "0.741 (+/-0.105) for {'C': 19, 'degree': 5, 'gamma': 'auto', 'kernel': 'poly'}\n",
      "0.831 (+/-0.015) for {'C': 21, 'degree': 1, 'gamma': 'auto', 'kernel': 'poly'}\n",
      "0.826 (+/-0.022) for {'C': 21, 'degree': 2, 'gamma': 'auto', 'kernel': 'poly'}\n",
      "0.829 (+/-0.023) for {'C': 21, 'degree': 3, 'gamma': 'auto', 'kernel': 'poly'}\n",
      "0.790 (+/-0.030) for {'C': 21, 'degree': 4, 'gamma': 'auto', 'kernel': 'poly'}\n",
      "0.753 (+/-0.082) for {'C': 21, 'degree': 5, 'gamma': 'auto', 'kernel': 'poly'}\n",
      "0.831 (+/-0.014) for {'C': 23, 'degree': 1, 'gamma': 'auto', 'kernel': 'poly'}\n",
      "0.826 (+/-0.023) for {'C': 23, 'degree': 2, 'gamma': 'auto', 'kernel': 'poly'}\n",
      "0.829 (+/-0.021) for {'C': 23, 'degree': 3, 'gamma': 'auto', 'kernel': 'poly'}\n",
      "0.793 (+/-0.030) for {'C': 23, 'degree': 4, 'gamma': 'auto', 'kernel': 'poly'}\n",
      "0.754 (+/-0.078) for {'C': 23, 'degree': 5, 'gamma': 'auto', 'kernel': 'poly'}\n",
      "0.831 (+/-0.013) for {'C': 25, 'degree': 1, 'gamma': 'auto', 'kernel': 'poly'}\n",
      "0.825 (+/-0.022) for {'C': 25, 'degree': 2, 'gamma': 'auto', 'kernel': 'poly'}\n",
      "0.828 (+/-0.018) for {'C': 25, 'degree': 3, 'gamma': 'auto', 'kernel': 'poly'}\n",
      "0.795 (+/-0.028) for {'C': 25, 'degree': 4, 'gamma': 'auto', 'kernel': 'poly'}\n",
      "0.768 (+/-0.072) for {'C': 25, 'degree': 5, 'gamma': 'auto', 'kernel': 'poly'}\n",
      "0.831 (+/-0.013) for {'C': 27, 'degree': 1, 'gamma': 'auto', 'kernel': 'poly'}\n",
      "0.825 (+/-0.022) for {'C': 27, 'degree': 2, 'gamma': 'auto', 'kernel': 'poly'}\n",
      "0.829 (+/-0.019) for {'C': 27, 'degree': 3, 'gamma': 'auto', 'kernel': 'poly'}\n",
      "0.796 (+/-0.029) for {'C': 27, 'degree': 4, 'gamma': 'auto', 'kernel': 'poly'}\n",
      "0.773 (+/-0.079) for {'C': 27, 'degree': 5, 'gamma': 'auto', 'kernel': 'poly'}\n",
      "0.832 (+/-0.013) for {'C': 29, 'degree': 1, 'gamma': 'auto', 'kernel': 'poly'}\n",
      "0.825 (+/-0.019) for {'C': 29, 'degree': 2, 'gamma': 'auto', 'kernel': 'poly'}\n",
      "0.829 (+/-0.018) for {'C': 29, 'degree': 3, 'gamma': 'auto', 'kernel': 'poly'}\n",
      "0.797 (+/-0.029) for {'C': 29, 'degree': 4, 'gamma': 'auto', 'kernel': 'poly'}\n",
      "0.771 (+/-0.090) for {'C': 29, 'degree': 5, 'gamma': 'auto', 'kernel': 'poly'}\n",
      "0.832 (+/-0.013) for {'C': 31, 'degree': 1, 'gamma': 'auto', 'kernel': 'poly'}\n",
      "0.825 (+/-0.020) for {'C': 31, 'degree': 2, 'gamma': 'auto', 'kernel': 'poly'}\n",
      "0.830 (+/-0.018) for {'C': 31, 'degree': 3, 'gamma': 'auto', 'kernel': 'poly'}\n",
      "0.798 (+/-0.028) for {'C': 31, 'degree': 4, 'gamma': 'auto', 'kernel': 'poly'}\n",
      "0.770 (+/-0.095) for {'C': 31, 'degree': 5, 'gamma': 'auto', 'kernel': 'poly'}\n",
      "0.832 (+/-0.013) for {'C': 33, 'degree': 1, 'gamma': 'auto', 'kernel': 'poly'}\n",
      "0.825 (+/-0.019) for {'C': 33, 'degree': 2, 'gamma': 'auto', 'kernel': 'poly'}\n",
      "0.830 (+/-0.018) for {'C': 33, 'degree': 3, 'gamma': 'auto', 'kernel': 'poly'}\n",
      "0.799 (+/-0.028) for {'C': 33, 'degree': 4, 'gamma': 'auto', 'kernel': 'poly'}\n",
      "0.771 (+/-0.095) for {'C': 33, 'degree': 5, 'gamma': 'auto', 'kernel': 'poly'}\n",
      "0.832 (+/-0.013) for {'C': 35, 'degree': 1, 'gamma': 'auto', 'kernel': 'poly'}\n",
      "0.826 (+/-0.020) for {'C': 35, 'degree': 2, 'gamma': 'auto', 'kernel': 'poly'}\n",
      "0.831 (+/-0.019) for {'C': 35, 'degree': 3, 'gamma': 'auto', 'kernel': 'poly'}\n",
      "0.800 (+/-0.027) for {'C': 35, 'degree': 4, 'gamma': 'auto', 'kernel': 'poly'}\n",
      "0.770 (+/-0.096) for {'C': 35, 'degree': 5, 'gamma': 'auto', 'kernel': 'poly'}\n",
      "0.832 (+/-0.013) for {'C': 37, 'degree': 1, 'gamma': 'auto', 'kernel': 'poly'}\n",
      "0.826 (+/-0.019) for {'C': 37, 'degree': 2, 'gamma': 'auto', 'kernel': 'poly'}\n",
      "0.832 (+/-0.018) for {'C': 37, 'degree': 3, 'gamma': 'auto', 'kernel': 'poly'}\n",
      "0.801 (+/-0.027) for {'C': 37, 'degree': 4, 'gamma': 'auto', 'kernel': 'poly'}\n",
      "0.769 (+/-0.088) for {'C': 37, 'degree': 5, 'gamma': 'auto', 'kernel': 'poly'}\n",
      "0.832 (+/-0.013) for {'C': 39, 'degree': 1, 'gamma': 'auto', 'kernel': 'poly'}\n",
      "0.826 (+/-0.021) for {'C': 39, 'degree': 2, 'gamma': 'auto', 'kernel': 'poly'}\n",
      "0.832 (+/-0.020) for {'C': 39, 'degree': 3, 'gamma': 'auto', 'kernel': 'poly'}\n",
      "0.802 (+/-0.028) for {'C': 39, 'degree': 4, 'gamma': 'auto', 'kernel': 'poly'}\n",
      "0.768 (+/-0.089) for {'C': 39, 'degree': 5, 'gamma': 'auto', 'kernel': 'poly'}\n",
      "0.831 (+/-0.013) for {'C': 41, 'degree': 1, 'gamma': 'auto', 'kernel': 'poly'}\n",
      "0.826 (+/-0.021) for {'C': 41, 'degree': 2, 'gamma': 'auto', 'kernel': 'poly'}\n",
      "0.832 (+/-0.019) for {'C': 41, 'degree': 3, 'gamma': 'auto', 'kernel': 'poly'}\n",
      "0.804 (+/-0.029) for {'C': 41, 'degree': 4, 'gamma': 'auto', 'kernel': 'poly'}\n",
      "0.767 (+/-0.087) for {'C': 41, 'degree': 5, 'gamma': 'auto', 'kernel': 'poly'}\n",
      "0.831 (+/-0.013) for {'C': 43, 'degree': 1, 'gamma': 'auto', 'kernel': 'poly'}\n",
      "0.827 (+/-0.021) for {'C': 43, 'degree': 2, 'gamma': 'auto', 'kernel': 'poly'}\n",
      "0.832 (+/-0.019) for {'C': 43, 'degree': 3, 'gamma': 'auto', 'kernel': 'poly'}\n",
      "0.803 (+/-0.026) for {'C': 43, 'degree': 4, 'gamma': 'auto', 'kernel': 'poly'}\n",
      "0.766 (+/-0.088) for {'C': 43, 'degree': 5, 'gamma': 'auto', 'kernel': 'poly'}\n",
      "0.831 (+/-0.013) for {'C': 45, 'degree': 1, 'gamma': 'auto', 'kernel': 'poly'}\n",
      "0.828 (+/-0.021) for {'C': 45, 'degree': 2, 'gamma': 'auto', 'kernel': 'poly'}\n",
      "0.832 (+/-0.019) for {'C': 45, 'degree': 3, 'gamma': 'auto', 'kernel': 'poly'}\n",
      "0.804 (+/-0.026) for {'C': 45, 'degree': 4, 'gamma': 'auto', 'kernel': 'poly'}\n",
      "0.766 (+/-0.085) for {'C': 45, 'degree': 5, 'gamma': 'auto', 'kernel': 'poly'}\n",
      "0.830 (+/-0.013) for {'C': 47, 'degree': 1, 'gamma': 'auto', 'kernel': 'poly'}\n",
      "0.827 (+/-0.022) for {'C': 47, 'degree': 2, 'gamma': 'auto', 'kernel': 'poly'}\n",
      "0.832 (+/-0.018) for {'C': 47, 'degree': 3, 'gamma': 'auto', 'kernel': 'poly'}\n",
      "0.805 (+/-0.026) for {'C': 47, 'degree': 4, 'gamma': 'auto', 'kernel': 'poly'}\n",
      "0.766 (+/-0.083) for {'C': 47, 'degree': 5, 'gamma': 'auto', 'kernel': 'poly'}\n",
      "0.831 (+/-0.013) for {'C': 49, 'degree': 1, 'gamma': 'auto', 'kernel': 'poly'}\n",
      "0.827 (+/-0.021) for {'C': 49, 'degree': 2, 'gamma': 'auto', 'kernel': 'poly'}\n",
      "0.833 (+/-0.017) for {'C': 49, 'degree': 3, 'gamma': 'auto', 'kernel': 'poly'}\n",
      "0.807 (+/-0.026) for {'C': 49, 'degree': 4, 'gamma': 'auto', 'kernel': 'poly'}\n",
      "0.768 (+/-0.086) for {'C': 49, 'degree': 5, 'gamma': 'auto', 'kernel': 'poly'}\n",
      "0.831 (+/-0.014) for {'C': 51, 'degree': 1, 'gamma': 'auto', 'kernel': 'poly'}\n",
      "0.828 (+/-0.020) for {'C': 51, 'degree': 2, 'gamma': 'auto', 'kernel': 'poly'}\n",
      "0.834 (+/-0.014) for {'C': 51, 'degree': 3, 'gamma': 'auto', 'kernel': 'poly'}\n",
      "0.807 (+/-0.025) for {'C': 51, 'degree': 4, 'gamma': 'auto', 'kernel': 'poly'}\n",
      "0.766 (+/-0.078) for {'C': 51, 'degree': 5, 'gamma': 'auto', 'kernel': 'poly'}\n",
      "0.831 (+/-0.013) for {'C': 53, 'degree': 1, 'gamma': 'auto', 'kernel': 'poly'}\n",
      "0.828 (+/-0.020) for {'C': 53, 'degree': 2, 'gamma': 'auto', 'kernel': 'poly'}\n",
      "0.834 (+/-0.015) for {'C': 53, 'degree': 3, 'gamma': 'auto', 'kernel': 'poly'}\n",
      "0.808 (+/-0.024) for {'C': 53, 'degree': 4, 'gamma': 'auto', 'kernel': 'poly'}\n",
      "0.767 (+/-0.079) for {'C': 53, 'degree': 5, 'gamma': 'auto', 'kernel': 'poly'}\n",
      "0.831 (+/-0.013) for {'C': 55, 'degree': 1, 'gamma': 'auto', 'kernel': 'poly'}\n",
      "0.828 (+/-0.020) for {'C': 55, 'degree': 2, 'gamma': 'auto', 'kernel': 'poly'}\n",
      "0.834 (+/-0.017) for {'C': 55, 'degree': 3, 'gamma': 'auto', 'kernel': 'poly'}\n",
      "0.808 (+/-0.024) for {'C': 55, 'degree': 4, 'gamma': 'auto', 'kernel': 'poly'}\n",
      "0.765 (+/-0.075) for {'C': 55, 'degree': 5, 'gamma': 'auto', 'kernel': 'poly'}\n",
      "0.831 (+/-0.013) for {'C': 57, 'degree': 1, 'gamma': 'auto', 'kernel': 'poly'}\n",
      "0.828 (+/-0.021) for {'C': 57, 'degree': 2, 'gamma': 'auto', 'kernel': 'poly'}\n",
      "0.834 (+/-0.017) for {'C': 57, 'degree': 3, 'gamma': 'auto', 'kernel': 'poly'}\n",
      "0.809 (+/-0.023) for {'C': 57, 'degree': 4, 'gamma': 'auto', 'kernel': 'poly'}\n",
      "0.766 (+/-0.078) for {'C': 57, 'degree': 5, 'gamma': 'auto', 'kernel': 'poly'}\n",
      "0.832 (+/-0.014) for {'C': 59, 'degree': 1, 'gamma': 'auto', 'kernel': 'poly'}\n",
      "0.829 (+/-0.019) for {'C': 59, 'degree': 2, 'gamma': 'auto', 'kernel': 'poly'}\n",
      "0.834 (+/-0.018) for {'C': 59, 'degree': 3, 'gamma': 'auto', 'kernel': 'poly'}\n",
      "0.808 (+/-0.024) for {'C': 59, 'degree': 4, 'gamma': 'auto', 'kernel': 'poly'}\n",
      "0.768 (+/-0.077) for {'C': 59, 'degree': 5, 'gamma': 'auto', 'kernel': 'poly'}\n",
      "\n",
      "Detailed classification report:\n",
      "\n",
      "The model is trained on the full development set.\n",
      "The scores are computed on the full evaluation set.\n",
      "\n",
      "              precision    recall  f1-score   support\n",
      "\n",
      "           0       0.87      0.88      0.88      1353\n",
      "           1       0.77      0.76      0.76       723\n",
      "\n",
      "    accuracy                           0.84      2076\n",
      "   macro avg       0.82      0.82      0.82      2076\n",
      "weighted avg       0.84      0.84      0.84      2076\n",
      "\n",
      "\n"
     ]
    }
   ],
   "source": [
    "X_Train = scaler.fit_transform(X_Train)\n",
    "X_Test = scaler.fit_transform(X_Test)\n",
    "tuned_parameters = [{'kernel': ['poly'], 'degree': [1,2,3,4,5], 'C': [(i*2)+1 for i in range(30)], 'gamma': ['auto']}]\n",
    "\n",
    "print(\"Tuning hyper-parameters for accuracy\")\n",
    "print()\n",
    "polynomialSVM = GridSearchCV(SVC(), tuned_parameters, scoring = 'accuracy')\n",
    "polynomialSVM.fit(X_Train, Y_Train)\n",
    "\n",
    "print(\"Best parameters set found on development set:\")\n",
    "print()\n",
    "print(polynomialSVM.best_params_)\n",
    "print()\n",
    "print(\"Grid scores on development set:\")\n",
    "print()\n",
    "means = polynomialSVM.cv_results_['mean_test_score']\n",
    "stds = polynomialSVM.cv_results_['std_test_score']\n",
    "for mean, std, params in zip(means, stds, polynomialSVM.cv_results_['params']):\n",
    "    print(\"%0.3f (+/-%0.03f) for %r\" % (mean, std * 2, params))\n",
    "print()\n",
    "\n",
    "print(\"Detailed classification report:\")\n",
    "print()\n",
    "print(\"The model is trained on the full development set.\")\n",
    "print(\"The scores are computed on the full evaluation set.\")\n",
    "print()\n",
    "actualValues, predictedValues = Y_Test, polynomialSVM.predict(X_Test)\n",
    "print(classification_report(actualValues, predictedValues))\n",
    "print()"
   ]
  },
  {
   "cell_type": "code",
   "execution_count": 50,
   "metadata": {},
   "outputs": [
    {
     "name": "stdout",
     "output_type": "stream",
     "text": [
      "Model is training...\n",
      "Training complete\n",
      "[[1189  164]\n",
      " [ 175  548]]\n",
      "              precision    recall  f1-score   support\n",
      "\n",
      "           0       0.87      0.88      0.88      1353\n",
      "           1       0.77      0.76      0.76       723\n",
      "\n",
      "    accuracy                           0.84      2076\n",
      "   macro avg       0.82      0.82      0.82      2076\n",
      "weighted avg       0.84      0.84      0.84      2076\n",
      "\n",
      "Accuracy score: 83.67%\n",
      "F1 score:  76.38%\n"
     ]
    }
   ],
   "source": [
    "print('Model is training...')\n",
    "\n",
    "polynomialSVM = SVC(C=59, kernel='poly', degree = 3, gamma='auto')\n",
    "polynomialSVM.fit(X_Train, Y_Train)\n",
    "predictedValues = polynomialSVM.predict(X_Test)\n",
    "\n",
    "print('Training complete')    \n",
    "print(confusion_matrix(Y_Test, predictedValues))\n",
    "print(classification_report(Y_Test, predictedValues))\n",
    "print(\"Accuracy score:\", \"{:.2%}\".format(accuracy_score(Y_Test, predictedValues)))\n",
    "print(\"F1 score: \", \"{:.2%}\".format(f1_score(Y_Test, predictedValues)))"
   ]
  },
  {
   "cell_type": "markdown",
   "metadata": {},
   "source": [
    "## Radial Basis Function"
   ]
  },
  {
   "cell_type": "markdown",
   "metadata": {},
   "source": [
    "### Hyperparameter Tuning (GridSearchCV)"
   ]
  },
  {
   "cell_type": "markdown",
   "metadata": {},
   "source": [
    "For the RBF Kernalized SVM, there are two hyperparameters to optimize: gamma, and C. Gamma, the new term, defines how much influence a support vector has on the model. If gamma is low, this means the 'sphere' of influence of that sample will be significant, whereas if it's high, the sphere of influence will be smaller."
   ]
  },
  {
   "cell_type": "code",
   "execution_count": 15,
   "metadata": {},
   "outputs": [
    {
     "name": "stdout",
     "output_type": "stream",
     "text": [
      "# Tuning hyper-parameters for accuracy\n",
      "\n",
      "Best parameters set found on development set:\n",
      "\n",
      "{'C': 100000000.0, 'gamma': 1e-05, 'kernel': 'rbf'}\n",
      "\n",
      "Grid scores on development set:\n",
      "\n",
      "0.779 (+/-0.021) for {'C': 100.0, 'gamma': 1e-05, 'kernel': 'rbf'}\n",
      "0.653 (+/-0.001) for {'C': 100.0, 'gamma': 1e-06, 'kernel': 'rbf'}\n",
      "0.653 (+/-0.001) for {'C': 100.0, 'gamma': 1e-07, 'kernel': 'rbf'}\n",
      "0.817 (+/-0.015) for {'C': 1000.0, 'gamma': 1e-05, 'kernel': 'rbf'}\n",
      "0.779 (+/-0.021) for {'C': 1000.0, 'gamma': 1e-06, 'kernel': 'rbf'}\n",
      "0.653 (+/-0.001) for {'C': 1000.0, 'gamma': 1e-07, 'kernel': 'rbf'}\n",
      "0.824 (+/-0.017) for {'C': 10000.0, 'gamma': 1e-05, 'kernel': 'rbf'}\n",
      "0.817 (+/-0.015) for {'C': 10000.0, 'gamma': 1e-06, 'kernel': 'rbf'}\n",
      "0.778 (+/-0.020) for {'C': 10000.0, 'gamma': 1e-07, 'kernel': 'rbf'}\n",
      "0.832 (+/-0.024) for {'C': 100000.0, 'gamma': 1e-05, 'kernel': 'rbf'}\n",
      "0.824 (+/-0.018) for {'C': 100000.0, 'gamma': 1e-06, 'kernel': 'rbf'}\n",
      "0.817 (+/-0.016) for {'C': 100000.0, 'gamma': 1e-07, 'kernel': 'rbf'}\n",
      "0.838 (+/-0.018) for {'C': 1000000.0, 'gamma': 1e-05, 'kernel': 'rbf'}\n",
      "0.832 (+/-0.023) for {'C': 1000000.0, 'gamma': 1e-06, 'kernel': 'rbf'}\n",
      "0.823 (+/-0.016) for {'C': 1000000.0, 'gamma': 1e-07, 'kernel': 'rbf'}\n",
      "0.839 (+/-0.019) for {'C': 10000000.0, 'gamma': 1e-05, 'kernel': 'rbf'}\n",
      "0.833 (+/-0.018) for {'C': 10000000.0, 'gamma': 1e-06, 'kernel': 'rbf'}\n",
      "0.820 (+/-0.009) for {'C': 10000000.0, 'gamma': 1e-07, 'kernel': 'rbf'}\n",
      "0.842 (+/-0.022) for {'C': 100000000.0, 'gamma': 1e-05, 'kernel': 'rbf'}\n",
      "0.833 (+/-0.022) for {'C': 100000000.0, 'gamma': 1e-06, 'kernel': 'rbf'}\n",
      "0.815 (+/-0.014) for {'C': 100000000.0, 'gamma': 1e-07, 'kernel': 'rbf'}\n",
      "\n",
      "Classification report:\n",
      "\n",
      "              precision    recall  f1-score   support\n",
      "\n",
      "           0       0.87      0.89      0.88      1401\n",
      "           1       0.76      0.72      0.74       675\n",
      "\n",
      "    accuracy                           0.83      2076\n",
      "   macro avg       0.81      0.81      0.81      2076\n",
      "weighted avg       0.83      0.83      0.83      2076\n",
      "\n",
      "\n",
      "# Tuning hyper-parameters for f1\n",
      "\n",
      "Best parameters set found on development set:\n",
      "\n",
      "{'C': 100000000.0, 'gamma': 1e-05, 'kernel': 'rbf'}\n",
      "\n",
      "Grid scores on development set:\n",
      "\n",
      "0.732 (+/-0.025) for {'C': 100.0, 'gamma': 1e-05, 'kernel': 'rbf'}\n",
      "0.395 (+/-0.000) for {'C': 100.0, 'gamma': 1e-06, 'kernel': 'rbf'}\n",
      "0.395 (+/-0.000) for {'C': 100.0, 'gamma': 1e-07, 'kernel': 'rbf'}\n",
      "0.807 (+/-0.015) for {'C': 1000.0, 'gamma': 1e-05, 'kernel': 'rbf'}\n",
      "0.732 (+/-0.025) for {'C': 1000.0, 'gamma': 1e-06, 'kernel': 'rbf'}\n",
      "0.395 (+/-0.000) for {'C': 1000.0, 'gamma': 1e-07, 'kernel': 'rbf'}\n",
      "0.813 (+/-0.017) for {'C': 10000.0, 'gamma': 1e-05, 'kernel': 'rbf'}\n",
      "0.807 (+/-0.015) for {'C': 10000.0, 'gamma': 1e-06, 'kernel': 'rbf'}\n",
      "0.730 (+/-0.023) for {'C': 10000.0, 'gamma': 1e-07, 'kernel': 'rbf'}\n",
      "0.822 (+/-0.024) for {'C': 100000.0, 'gamma': 1e-05, 'kernel': 'rbf'}\n",
      "0.814 (+/-0.017) for {'C': 100000.0, 'gamma': 1e-06, 'kernel': 'rbf'}\n",
      "0.807 (+/-0.016) for {'C': 100000.0, 'gamma': 1e-07, 'kernel': 'rbf'}\n",
      "0.828 (+/-0.017) for {'C': 1000000.0, 'gamma': 1e-05, 'kernel': 'rbf'}\n",
      "0.821 (+/-0.024) for {'C': 1000000.0, 'gamma': 1e-06, 'kernel': 'rbf'}\n",
      "0.812 (+/-0.014) for {'C': 1000000.0, 'gamma': 1e-07, 'kernel': 'rbf'}\n",
      "0.828 (+/-0.017) for {'C': 10000000.0, 'gamma': 1e-05, 'kernel': 'rbf'}\n",
      "0.821 (+/-0.018) for {'C': 10000000.0, 'gamma': 1e-06, 'kernel': 'rbf'}\n",
      "0.811 (+/-0.009) for {'C': 10000000.0, 'gamma': 1e-07, 'kernel': 'rbf'}\n",
      "0.831 (+/-0.022) for {'C': 100000000.0, 'gamma': 1e-05, 'kernel': 'rbf'}\n",
      "0.821 (+/-0.022) for {'C': 100000000.0, 'gamma': 1e-06, 'kernel': 'rbf'}\n",
      "0.808 (+/-0.014) for {'C': 100000000.0, 'gamma': 1e-07, 'kernel': 'rbf'}\n",
      "\n",
      "Classification report:\n",
      "\n",
      "              precision    recall  f1-score   support\n",
      "\n",
      "           0       0.87      0.89      0.88      1401\n",
      "           1       0.76      0.72      0.74       675\n",
      "\n",
      "    accuracy                           0.83      2076\n",
      "   macro avg       0.81      0.81      0.81      2076\n",
      "weighted avg       0.83      0.83      0.83      2076\n",
      "\n",
      "\n"
     ]
    }
   ],
   "source": [
    "tuned_parameters = [{'kernel': ['rbf'], 'gamma': [1e-5, 1e-6, 1e-7],\n",
    "                     'C': [1e2, 1e3, 1e4, 1e5, 1e6, 1e7, 1e8]}]\n",
    "scores = ['accuracy', 'f1']\n",
    "for score in scores:\n",
    "    print(\"# Tuning hyper-parameters for %s\" % score)\n",
    "    print()\n",
    "    if score == 'accuracy':\n",
    "        RBF_SVM = GridSearchCV(SVC(), tuned_parameters, scoring = 'accuracy')\n",
    "    else:\n",
    "        RBF_SVM = GridSearchCV(SVC(), tuned_parameters, scoring = '%s_macro' % score)          \n",
    "    RBF_SVM.fit(X_Train, Y_Train)\n",
    "\n",
    "    print(\"Best parameters set found on development set:\")\n",
    "    print()\n",
    "    print(RBF_SVM.best_params_)\n",
    "    print()\n",
    "    print(\"Grid scores on development set:\")\n",
    "    print()\n",
    "    means = RBF_SVM.cv_results_['mean_test_score']\n",
    "    stds = RBF_SVM.cv_results_['std_test_score']\n",
    "    for mean, std, params in zip(means, stds, RBF_SVM.cv_results_['params']):\n",
    "        print(\"%0.3f (+/-%0.03f) for %r\" % (mean, std * 2, params))\n",
    "    print()\n",
    "\n",
    "    print(\"Classification report:\")\n",
    "    print()\n",
    "    actualValues, predictedValues = Y_Test, RBF_SVM.predict(X_Test)\n",
    "    print(classification_report(actualValues, predictedValues))\n",
    "    print()"
   ]
  },
  {
   "cell_type": "code",
   "execution_count": 16,
   "metadata": {},
   "outputs": [
    {
     "name": "stdout",
     "output_type": "stream",
     "text": [
      "Confusion Matrix: \n",
      "[[1245  156]\n",
      " [ 188  487]]\n",
      "\n",
      "Accuracy score: 83.43%\n",
      "F1 score:  73.90%\n"
     ]
    }
   ],
   "source": [
    "RBF_SVM = SVC(kernel=\"rbf\", gamma= 1e-5, C=1e8)\n",
    "RBF_SVM.fit(X_Train, Y_Train)\n",
    "predictedValues = RBF_SVM.predict(X_Test)\n",
    "print(\"Confusion Matrix: \")\n",
    "print(confusion_matrix(Y_Test, predictedValues))\n",
    "print()\n",
    "print(\"Accuracy score:\", \"{:.2%}\".format(accuracy_score(Y_Test, predictedValues)))\n",
    "print(\"F1 score: \", \"{:.2%}\".format(f1_score(Y_Test, predictedValues)))"
   ]
  },
  {
   "cell_type": "markdown",
   "metadata": {},
   "source": [
    "# K-Means Clustering"
   ]
  },
  {
   "cell_type": "code",
   "execution_count": 19,
   "metadata": {},
   "outputs": [
    {
     "name": "stdout",
     "output_type": "stream",
     "text": [
      "      koi_steff  koi_slogg  koi_smet  koi_srad  koi_smass koi_disposition\n",
      "0        5455.0      4.467      0.14     0.927      0.919               1\n",
      "1        5455.0      4.467      0.14     0.927      0.919               1\n",
      "3        5805.0      4.564     -0.52     0.791      0.836               0\n",
      "4        6031.0      4.438      0.07     1.046      1.095               1\n",
      "5        6046.0      4.486     -0.08     0.972      1.053               1\n",
      "...         ...        ...       ...       ...        ...             ...\n",
      "9557     5263.0      4.574     -0.66     0.699      0.668               0\n",
      "9558     5638.0      4.296     -0.16     1.088      0.856               0\n",
      "9559     5638.0      4.529      0.14     0.903      1.005               0\n",
      "9561     6173.0      4.447     -0.04     1.041      1.104               0\n",
      "9563     6469.0      4.385      0.07     1.193      1.260               0\n",
      "\n",
      "[6919 rows x 6 columns]\n"
     ]
    }
   ],
   "source": [
    "stellarDF = pd.concat([stellarDF, Y], axis = 1)\n",
    "print(stellarDF)"
   ]
  },
  {
   "cell_type": "markdown",
   "metadata": {},
   "source": [
    "Remove rows that have 'false positive' labeling for planets. Will only keep stars that are confirmed to have planets around them"
   ]
  },
  {
   "cell_type": "code",
   "execution_count": 20,
   "metadata": {},
   "outputs": [
    {
     "name": "stdout",
     "output_type": "stream",
     "text": [
      "      koi_steff  koi_slogg  koi_smet  koi_srad  koi_smass koi_disposition\n",
      "0        5455.0      4.467      0.14     0.927      0.919               1\n",
      "1        5455.0      4.467      0.14     0.927      0.919               1\n",
      "4        6031.0      4.438      0.07     1.046      1.095               1\n",
      "5        6046.0      4.486     -0.08     0.972      1.053               1\n",
      "6        6046.0      4.486     -0.08     0.972      1.053               1\n",
      "...         ...        ...       ...       ...        ...             ...\n",
      "7658     5970.0      4.317      0.10     1.200      1.089               1\n",
      "8817     3236.0      5.097      0.00     0.193      0.169               1\n",
      "8956     3327.0      5.113     -0.38     0.189      0.169               1\n",
      "9014     5579.0      4.580     -0.22     0.798      0.892               1\n",
      "9083     5713.0      4.541      0.07     0.893      1.010               1\n",
      "\n",
      "[2357 rows x 6 columns]\n"
     ]
    }
   ],
   "source": [
    "stellarDF.drop(stellarDF[stellarDF['koi_disposition'] == 0].index, inplace = True)\n",
    "print(stellarDF)"
   ]
  },
  {
   "cell_type": "code",
   "execution_count": 21,
   "metadata": {},
   "outputs": [
    {
     "data": {
      "text/plain": [
       "<function matplotlib.pyplot.show(*args, **kw)>"
      ]
     },
     "execution_count": 21,
     "metadata": {},
     "output_type": "execute_result"
    },
    {
     "data": {
      "image/png": "[encoded data removed]",
      "text/plain": [
       "<Figure size 432x288 with 1 Axes>"
      ]
     },
     "metadata": {
      "needs_background": "light"
     },
     "output_type": "display_data"
    }
   ],
   "source": [
    "plt.scatter(stellarDF['koi_steff'], stellarDF['koi_smass'], color = 'black')\n",
    "plt.ylabel(\"Solar masses (1 solar mass = 2e30 kg)\")\n",
    "plt.xlabel(\"Effective Temperature (Kelvin)\")\n",
    "plt.show"
   ]
  },
  {
   "cell_type": "code",
   "execution_count": 22,
   "metadata": {},
   "outputs": [],
   "source": [
    "stellarStandard = MinMaxScaler().fit_transform(stellarDF)\n",
    "stellarStandard = np.delete(stellarStandard, -1, axis=1)"
   ]
  },
  {
   "cell_type": "code",
   "execution_count": 24,
   "metadata": {},
   "outputs": [],
   "source": [
    "def euclideanDistance(point1, point2):\n",
    "    distance = 0\n",
    "    for j in range(5):\n",
    "        distance += (point1[j] - point2[j])**2\n",
    "    return math.sqrt(distance)\n",
    "\n",
    "class K_Means_Clustering:\n",
    "    def __init__(self, k, maxIterations):\n",
    "        self.k = k\n",
    "        self.maxIter = maxIterations\n",
    "        self.currentIteration = 0\n",
    "     \n",
    "    #This updates the centroids by having their 5-dimensional coordinates equal the mean of each column\n",
    "    #As an example, for centroid #1, it's 0th coordinate will equal the mean of the zeroth column of it's samples, \n",
    "    #it's 1st coordinate will equal the mean of the 1st column, etc. It will do this for each coordinate, for every centroid\n",
    "    def updateCentroids(self):\n",
    "        index = 0\n",
    "        self.oldCentroids = deepcopy(self.centroids)\n",
    "        for key in self.classes:\n",
    "            if self.k == 1:\n",
    "                self.centroids = np.mean(self.classes[key], axis = 1)\n",
    "            else:\n",
    "                self.centroids[index] = np.mean(self.classes[key], axis = 0)\n",
    "                index += 1\n",
    "    \n",
    "    #This classifies each row of the feature matrix, self-explanatory            \n",
    "    def classifyRow(self, row):\n",
    "        intermediate = self.findDistances(self.featureMatrix[row])\n",
    "        centroidDistances = self.SortTuple(intermediate)\n",
    "        return centroidDistances[0]\n",
    "     \n",
    "    #This sorts the tuples in the array based on the first element (smallets to largest), the distance. \n",
    "    #It then returns the first element, which represents the closest centroid \n",
    "    def SortTuple(self, tupleList):\n",
    "        return sorted(tupleList, key = lambda x: x[0])\n",
    "    \n",
    "    #This uses the distance metric to find the distance of each sample to all the centroids, and then stores the distance\n",
    "    #and class in a tuple\n",
    "    def findDistances(self, row):\n",
    "        distanceArray = []\n",
    "        if self.k == 1:\n",
    "            loop = 1\n",
    "        else:\n",
    "            loop = self.centroids.shape[0]\n",
    "        for centroid in range(loop):\n",
    "            if (self.distanceMetric == \"euclidean\"):\n",
    "                if (loop == 1):\n",
    "                    distanceArray.append(tuple([euclideanDistance(row, self.centroids),str(centroid)]))\n",
    "                else:\n",
    "                    distanceArray.append(tuple([euclideanDistance(row, self.centroids[centroid]),str(centroid)]))\n",
    "        return distanceArray\n",
    "    \n",
    "    #Convergence criteria\n",
    "    #This calculates the mean of each centroid. If the percent difference between the previous mean and the new mean \n",
    "    #are less than 0.1%, then the algorithm will stop\n",
    "    def convergence(self):\n",
    "        if self.k == 1:\n",
    "            oldMean = [np.mean(self.oldCentroids)]\n",
    "            newMean = [np.mean(self.centroids)]\n",
    "            loop = 1\n",
    "        else:\n",
    "            oldMean = np.mean(self.oldCentroids, axis = 1) #returns array of row means\n",
    "            newMean = np.mean(self.centroids, axis = 1)\n",
    "            loop = oldMean.shape[0]\n",
    "        percentDifference = []\n",
    "        for i in range(loop):\n",
    "            percentDifference.append(abs((newMean[i] - oldMean[i])/oldMean[i]))\n",
    "        if np.amax(percentDifference) <= 0.001:\n",
    "            print(percentDifference)\n",
    "            print(\"Converged at iteration:\", self.currentIteration)\n",
    "            return True\n",
    "        else:\n",
    "            return False\n",
    "    \n",
    "    def cluster(self, featureMatrix, distanceMetric):\n",
    "        self.distanceMetric = distanceMetric\n",
    "        self.featureMatrix = featureMatrix\n",
    "        self.n_rows, self.n_columns = featureMatrix.shape\n",
    "\n",
    "        #Centroid initialization\n",
    "        #This will generate a matrix of k x m matrix of centroids\n",
    "        self.centroids = np.array([])\n",
    "        for value in range(self.k):\n",
    "            randomRow = randrange(self.n_rows)\n",
    "            if value == 0:\n",
    "                self.centroids = np.append(self.centroids, np.copy(self.featureMatrix[randomRow]))\n",
    "            else:\n",
    "                self.centroids = np.vstack((self.centroids, np.copy(self.featureMatrix[randomRow])))\n",
    "        \n",
    "        #This dictionary object will hold each centroid as the key, and it's values will be the samples that belong to it\n",
    "        #Thus, this will be a dictionary of numpy arrays\n",
    "            self.classes = {}\n",
    "            \n",
    "        #This is the bulk of where the calculations happen    \n",
    "        for iteration in range(self.maxIter):\n",
    "            #if self.currentIteration%10 == 0:\n",
    "                #print(\"Current iteration: \", self.currentIteration)\n",
    "            self.classes.clear()\n",
    "            for row in range(self.n_rows):\n",
    "                distanceValue, starClass = self.classifyRow(row)\n",
    "                if starClass in self.classes:\n",
    "                    self.classes[starClass] = np.vstack((self.classes[starClass],self.featureMatrix[row]))\n",
    "                else:\n",
    "                    self.classes[starClass] = np.copy(self.featureMatrix[row])\n",
    "            self.updateCentroids()\n",
    "            if self.convergence() == True:\n",
    "                return self.classes\n",
    "            self.currentIteration += 1 \n",
    "        return self.classes"
   ]
  },
  {
   "cell_type": "markdown",
   "metadata": {},
   "source": [
    "### Hyperparameter Tuning (Elbow Method)"
   ]
  },
  {
   "cell_type": "markdown",
   "metadata": {},
   "source": [
    "The elbow method is a relatively simple tuning algorithm. For K-means, the only hyperparameter that has to be tuned is \"k\", the number of clusters. What the elbow method does is plot the mean squared distance each sample has to it's respective centroid against the number of clusters being used. For K-means, as the number of clusters increase, the average squared distance from any sample to a cluster centroid should decrease. At first that inverse relationship is linear, but eventually, it becomes polynomial. The point where that relationship stops being linear is the \"elbow\"."
   ]
  },
  {
   "cell_type": "code",
   "execution_count": 25,
   "metadata": {},
   "outputs": [
    {
     "name": "stdout",
     "output_type": "stream",
     "text": [
      "Now on cluster:  1\n",
      "[0.0]\n",
      "Converged at iteration: 1\n",
      "[0.0]\n",
      "Converged at iteration: 1\n",
      "[0.0]\n",
      "Converged at iteration: 1\n",
      "[0.0]\n",
      "Converged at iteration: 1\n",
      "[0.0]\n",
      "Converged at iteration: 1\n",
      "Now on cluster:  2\n",
      "[0.00013934145346223612, 0.0008946350936014142]\n",
      "Converged at iteration: 8\n",
      "[4.570066217222471e-05, 0.0009591446687093574]\n",
      "Converged at iteration: 7\n",
      "[3.151841571159264e-05, 0.0009225114411424311]\n",
      "Converged at iteration: 6\n",
      "[6.28334961796227e-05, 0.00099969710134734]\n",
      "Converged at iteration: 6\n",
      "[0.0003838601925341419, 0.0008732531535996981]\n",
      "Converged at iteration: 11\n",
      "Now on cluster:  3\n",
      "[0.0005461988477313067, 0.0005567658060392288, 0.0006965188451195955]\n",
      "Converged at iteration: 8\n",
      "[1.529577424285934e-05, 8.257754115422848e-05, 0.0004087274670446182]\n",
      "Converged at iteration: 5\n",
      "[0.0007380907629108355, 0.0008792873561178056, 0.0006621642797685146]\n",
      "Converged at iteration: 3\n",
      "[0.0003201046844499244, 0.0009500392691642447, 1.525861874310024e-05]\n",
      "Converged at iteration: 7\n",
      "[8.628302624620661e-06, 0.00023687452470662676, 0.0003155375033594703]\n",
      "Converged at iteration: 11\n",
      "Now on cluster:  4\n",
      "[0.000186907157551986, 0.0003219151048999249, 0.00024381766937389327, 0.00055363053379732]\n",
      "Converged at iteration: 7\n",
      "[8.435880388157121e-05, 0.00041513001921899347, 0.0008550614553421631, 0.00024247459556965515]\n",
      "Converged at iteration: 26\n",
      "[8.900684355609926e-05, 0.0001299752196927552, 0.0005069675972597891, 7.2352628346243e-05]\n",
      "Converged at iteration: 14\n",
      "[0.00012145435432400288, 0.0003919720672866892, 0.0009965092036369725, 0.00024247459556965515]\n",
      "Converged at iteration: 10\n",
      "[0.00011771199690314075, 0.0001870110408925856, 0.0, 0.0]\n",
      "Converged at iteration: 27\n",
      "Now on cluster:  5\n",
      "[0.0005255323472533189, 0.00019292384702767528, 0.0005882816859590061, 0.00032662411976435183, 0.0008373770029373822]\n",
      "Converged at iteration: 10\n",
      "[0.0008729775116101391, 0.00033073548825493157, 0.00011293821250511291, 8.103892929995028e-05, 8.691537358592367e-05]\n",
      "Converged at iteration: 11\n",
      "[0.00012780542814819503, 0.00059274270655076, 0.0005318088793334193, 0.0001252592518888109, 0.0]\n",
      "Converged at iteration: 17\n",
      "[5.621960808354697e-05, 0.00018792893199571202, 2.40200643137585e-06, 0.0003374887535587476, 0.0]\n",
      "Converged at iteration: 15\n",
      "[0.0002997714052222792, 2.6103161711308058e-05, 8.49395679990533e-05, 0.00016757574582867255, 0.0007754087544393752]\n",
      "Converged at iteration: 14\n",
      "Now on cluster:  6\n",
      "[0.0, 0.0, 0.0, 0.0, 0.0, 0.0]\n",
      "Converged at iteration: 17\n",
      "[0.00031937931624740885, 0.00025149540556849916, 1.413671589122669e-06, 0.00045310298954791685, 9.477602164342714e-05, 0.0]\n",
      "Converged at iteration: 13\n",
      "[0.00019492122439861175, 1.3775386270938511e-05, 4.695498593079321e-05, 0.0003462303998830949, 0.00035207487692435417, 0.0003727993755435382]\n",
      "Converged at iteration: 9\n",
      "[3.800199251055804e-05, 0.00042819754497302006, 6.378797899509173e-05, 0.0005472131232566913, 0.0, 0.0]\n",
      "Converged at iteration: 17\n",
      "[0.00041829782932750124, 0.0004901116165729708, 0.0006308718489119836, 0.0007222173207533482, 0.0005093790823331371, 0.0]\n",
      "Converged at iteration: 11\n",
      "Now on cluster:  7\n",
      "[0.0008054688289483869, 5.2569309455174875e-05, 0.0, 0.0007960510044274227, 0.0004053693697284559, 0.0, 0.0]\n",
      "Converged at iteration: 18\n",
      "[0.0009745994131121049, 7.255802807433918e-05, 0.0, 0.0008595046399772204, 0.0004628152784551145, 0.00030367141859026557, 0.0]\n",
      "Converged at iteration: 14\n",
      "[0.00018524923789888236, 0.00023845026005414073, 0.00017017107570776408, 0.00012436494937811667, 0.0, 0.0, 0.0005073937073207141]\n",
      "Converged at iteration: 10\n",
      "[0.0001583185931584247, 2.7667799508594008e-05, 0.0002581829146818555, 0.0004734314725906451, 0.0, 0.0, 0.0]\n",
      "Converged at iteration: 14\n",
      "[0.00015599111208071376, 0.00010852162746919303, 0.00015470138071041977, 1.3911249621032824e-05, 2.210802870163276e-05, 7.399306672942015e-05, 0.00012503465360254467]\n",
      "Converged at iteration: 9\n",
      "Now on cluster:  8\n",
      "[0.00018270280044794848, 2.3844349421947642e-05, 3.6901571711855305e-05, 0.0002572797870308833, 0.0, 0.00016539675534048254, 0.0, 0.0]\n",
      "Converged at iteration: 17\n",
      "[0.0003390178963195001, 0.00040966486518461125, 5.063489636391279e-05, 0.000923064245177548, 0.00021661591600141832, 0.0006520875220791276, 0.0008868842327941449, 0.0]\n",
      "Converged at iteration: 53\n",
      "[5.1379432202536886e-05, 0.0001405604781057577, 0.0007947474646833204, 0.0, 0.000830647353196662, 0.0006162475519521176, 0.00018127894655936452, 0.00012503465360254467]\n",
      "Converged at iteration: 12\n",
      "[0.00041388061228060083, 0.00010893630140357815, 8.844137941054155e-05, 0.00036072185474530534, 0.0003009262588943895, 0.000438701733525927, 0.0, 0.0007243154991196907]\n",
      "Converged at iteration: 13\n",
      "[0.000276400076586243, 0.0004167910035261077, 0.00020965743379425773, 0.0001370013852347771, 0.0006156856017065904, 0.000490388704254347, 0.0, 0.0]\n",
      "Converged at iteration: 22\n",
      "Now on cluster:  9\n",
      "[0.0003745410933642484, 0.0007792924936612015, 0.0007327993112590966, 0.0, 0.0005547257485740363, 7.022998069538412e-05, 0.0, 0.000987599357415793, 0.0006266803513963436]\n",
      "Converged at iteration: 9\n",
      "[3.995340376871094e-05, 0.00035346904543859925, 5.292350736979689e-05, 0.00028208180852177194, 0.0, 0.0, 0.00019193344136895352, 0.0, 0.0]\n",
      "Converged at iteration: 24\n",
      "[0.00016617724293299522, 0.0003073314897289451, 3.798264442896386e-05, 0.0008136638973497813, 0.0, 0.0004183560092779735, 0.0, 0.0, 0.0]\n",
      "Converged at iteration: 11\n",
      "[0.0004327375393899511, 5.574771110129184e-06, 0.00014716741384016447, 0.0, 0.00021579696352792252, 0.0, 0.0, 0.0, 0.0]\n",
      "Converged at iteration: 14\n",
      "[2.9925539444219263e-05, 0.0002530110106745278, 0.0, 0.00036403735883346435, 0.0, 0.0004016280211084776, 0.0, 0.0, 0.0]\n",
      "Converged at iteration: 16\n",
      "Now on cluster:  10\n",
      "[3.1684614187840267e-06, 8.884887122271344e-05, 0.0, 0.000934113217491906, 0.0, 8.554644498061836e-05, 0.0, 0.0, 0.00037792326309630294, 0.0]\n",
      "Converged at iteration: 15\n",
      "[5.470534810886664e-05, 0.0004977856145021511, 0.0001890027967611004, 0.0005121332836375207, 0.0008604914855528574, 0.0, 0.0003127823579240405, 0.0, 0.0, 0.0]\n",
      "Converged at iteration: 23\n",
      "[0.00027654489489781095, 9.9763508385427e-05, 0.0, 0.0, 0.0, 0.00030195491602133463, 0.0002934062115679226, 0.0, 4.0121634592650175e-05, 0.0]\n",
      "Converged at iteration: 25\n",
      "[0.0003400100346766625, 0.00017355160468917775, 8.434079139858964e-05, 5.289108605345527e-05, 0.0, 0.0003342874531397206, 6.890719909432643e-05, 0.0, 0.0007126109835281556, 0.0]\n",
      "Converged at iteration: 15\n",
      "[8.17060371731145e-05, 0.00037151054613789784, 0.0001252042036058425, 7.089329691899853e-05, 0.0004928677042521875, 0.0006803740231424131, 4.625069227084256e-05, 0.0, 0.0003596696765703026, 0.0]\n",
      "Converged at iteration: 13\n"
     ]
    }
   ],
   "source": [
    "clusterArray = [1,2,3,4,5,6,7,8,9,10]\n",
    "def elbowMethod(clusterArray, featureMatrix, maxIter):\n",
    "    inertiaMatrix = np.array([])\n",
    "    for cluster in clusterArray:\n",
    "        inertia = np.array([])\n",
    "        print(\"Now on cluster: \", cluster)\n",
    "        for i in range(5):\n",
    "            kMeansElbow = K_Means_Clustering(cluster, maxIter)\n",
    "            predictions = kMeansElbow.cluster(featureMatrix, \"euclidean\")\n",
    "            for key in predictions:\n",
    "                inertia = np.append(inertia, np.sum(np.square(predictions[key])))\n",
    "        inertia = np.mean(inertia)\n",
    "        inertia = np.append(inertia, cluster)\n",
    "        if inertiaMatrix.size == 0:\n",
    "            inertiaMatrix = np.append(inertiaMatrix, inertia)\n",
    "        else:\n",
    "            inertiaMatrix = np.vstack((inertiaMatrix, inertia))\n",
    "    return inertiaMatrix\n",
    "\n",
    "plotArray = elbowMethod(clusterArray, stellarStandard, 200)"
   ]
  },
  {
   "cell_type": "code",
   "execution_count": 30,
   "metadata": {},
   "outputs": [
    {
     "data": {
      "image/png": "[encoded data removed]",
      "text/plain": [
       "<Figure size 432x288 with 1 Axes>"
      ]
     },
     "metadata": {
      "needs_background": "light"
     },
     "output_type": "display_data"
    }
   ],
   "source": [
    "plt.plot(plotArray[:,1], plotArray[:,0])\n",
    "plt.xticks(np.arange(min(plotArray[:,1]), max(plotArray[:,1] +1), 1.0))\n",
    "plt.xlabel(\"Cluster Centroid count (k)\")\n",
    "plt.ylabel(\"Mean squared distances\")\n",
    "plt.grid()\n",
    "plt.show()"
   ]
  },
  {
   "cell_type": "markdown",
   "metadata": {},
   "source": [
    "The elbow for this curve is at k = 3, therefore future instances of K-Means for this dataset will use k = 3."
   ]
  },
  {
   "cell_type": "code",
   "execution_count": 27,
   "metadata": {},
   "outputs": [
    {
     "name": "stdout",
     "output_type": "stream",
     "text": [
      "[4.653927230778627e-05, 0.00013149124839322544, 0.0008747133894885526]\n",
      "Converged at iteration: 23\n",
      "Clustering complete!\n"
     ]
    }
   ],
   "source": [
    "kMeans = K_Means_Clustering(3, 200)\n",
    "predictedValues = kMeans.cluster(stellarStandard, \"euclidean\")\n",
    "print(\"Clustering complete!\")"
   ]
  },
  {
   "cell_type": "code",
   "execution_count": 29,
   "metadata": {},
   "outputs": [
    {
     "name": "stdout",
     "output_type": "stream",
     "text": [
      "(1065, 5)\n",
      "(894, 5)\n",
      "(398, 5)\n"
     ]
    }
   ],
   "source": [
    "print(predictedValues['0'].shape)\n",
    "print(predictedValues['1'].shape)\n",
    "print(predictedValues['2'].shape)"
   ]
  }
 ],
 "metadata": {
  "kernelspec": {
   "display_name": "Python 3",
   "language": "python",
   "name": "python3"
  },
  "language_info": {
   "codemirror_mode": {
    "name": "ipython",
    "version": 3
   },
   "file_extension": ".py",
   "mimetype": "text/x-python",
   "name": "python",
   "nbconvert_exporter": "python",
   "pygments_lexer": "ipython3",
   "version": "3.8.3"
  }
 },
 "nbformat": 4,
 "nbformat_minor": 4
}
